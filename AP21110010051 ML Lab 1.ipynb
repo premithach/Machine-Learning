{
 "cells": [
  {
   "cell_type": "markdown",
   "id": "7ccc1d5a",
   "metadata": {},
   "source": [
    "#### Introduction to Numpy\n",
    "##### 1. Write a NumPy program to multiply two given arrays of same size element-by-element.\n",
    "##### 2. Write a NumPy program to find the missing data in a given array.\n",
    "##### 3. Write a NumPy program to test whether each element of a 1-D array is also present in a second array.\n",
    "##### 4. Write a NumPy program to save a NumPy array to a text file.\n",
    "##### 5. Write a NumPy program to Create a 1-D array of 30 evenly spaced elements between 2.5. and 6.5, inclusive."
   ]
  },
  {
   "cell_type": "code",
   "execution_count": 6,
   "id": "9dcdf230",
   "metadata": {},
   "outputs": [
    {
     "name": "stdout",
     "output_type": "stream",
     "text": [
      "Array1:\n",
      "[[2 5 2]\n",
      " [1 2 3]\n",
      " [1 5 5]]\n",
      "Array2:\n",
      "[[5 3 4]\n",
      " [3 2 4]\n",
      " [3 2 5]]\n",
      "\n",
      "Multiply two given arrays:\n",
      "[[10 15  8]\n",
      " [ 3  4 12]\n",
      " [ 3 10 25]]\n"
     ]
    }
   ],
   "source": [
    "# Importing the NumPy library with an alias 'np'\n",
    "import numpy as np \n",
    "\n",
    "# Creating two NumPy arrays 'nums1' and 'nums2' containing 3x3 matrices\n",
    "nums1 = np.array([[2, 5, 2], [1,2,3], [1, 5, 5]])\n",
    "\n",
    "nums2 = np.array([[5, 3, 4], [3,2,4],[3, 2, 5]])\n",
    "\n",
    "# Printing the contents of 'nums1' array\n",
    "print(\"Array1:\") \n",
    "print(nums1)\n",
    "\n",
    "# Printing the contents of 'nums2' array\n",
    "print(\"Array2:\") \n",
    "print(nums2)\n",
    "\n",
    "# Performing element-wise multiplication of arrays 'nums1' and 'nums2' using np.multiply()\n",
    "# This operation multiplies corresponding elements of the two arrays\n",
    "print(\"\\nMultiply two given arrays:\")\n",
    "print(np.multiply(nums1, nums2))"
   ]
  },
  {
   "cell_type": "code",
   "execution_count": 8,
   "id": "a6a357b2",
   "metadata": {},
   "outputs": [
    {
     "name": "stdout",
     "output_type": "stream",
     "text": [
      "Original array:\n",
      "[[ 2.  7.  5. nan]\n",
      " [ 0.  4.  3. 19.]\n",
      " [ 5. nan  1. nan]]\n",
      "\n",
      "Find the missing data of the said array:\n",
      "[[False False False  True]\n",
      " [False False False False]\n",
      " [False  True False  True]]\n"
     ]
    }
   ],
   "source": [
    "import numpy as np\n",
    " \n",
    "# Creating a NumPy array 'nums' with provided values, including NaN (Not a Number)\n",
    "nums = np.array([[2, 7, 5, np.nan],\n",
    "                 [0, 4, 3, 19],\n",
    "                 [5, np.nan, 1, np.nan]])\n",
    "\n",
    "print(\"Original array:\")\n",
    "print(nums)\n",
    "\n",
    "# This function returns a boolean array of the same shape as 'nums', where True represents NaN values\n",
    "print(\"\\nFind the missing data of the said array:\")\n",
    "print(np.isnan(nums))\n"
   ]
  },
  {
   "cell_type": "code",
   "execution_count": 10,
   "id": "d095d580",
   "metadata": {},
   "outputs": [
    {
     "name": "stdout",
     "output_type": "stream",
     "text": [
      "Array1:  [ 0 10 20 30 40]\n",
      "Array2:  [0, 30]\n",
      "Compare each element of array1 and array2\n",
      "[ True False False  True False]\n"
     ]
    }
   ],
   "source": [
    "import numpy as np\n",
    "array1 = np.array([0, 10, 20, 30, 40])\n",
    "print(\"Array1: \", array1)\n",
    "\n",
    "array2 = [0, 30]\n",
    "print(\"Array2: \", array2)\n",
    "\n",
    "print(\"Compare each element of array1 and array2\")\n",
    "print(np.in1d(array1, array2))"
   ]
  },
  {
   "cell_type": "code",
   "execution_count": 12,
   "id": "eec1697f",
   "metadata": {},
   "outputs": [
    {
     "name": "stdout",
     "output_type": "stream",
     "text": [
      "Array:\n",
      " [1 2 3 4 5]\n",
      "\n",
      "Content in file1.txt:\n",
      " [1 2 3 4 5]\n"
     ]
    }
   ],
   "source": [
    "import numpy as np\n",
    " \n",
    "# Creating an array\n",
    "List = [1, 2, 3, 4, 5]\n",
    "Array = numpy.array(List)\n",
    " \n",
    "# Displaying the array\n",
    "print('Array:\\n', Array)\n",
    "file = open(\"file1.txt\", \"w+\")\n",
    " \n",
    "# Saving the array in a text file\n",
    "content = str(Array)\n",
    "file.write(content)\n",
    "file.close()\n",
    " \n",
    "# Displaying the contents of the text file\n",
    "file = open(\"file1.txt\", \"r\")\n",
    "content = file.read()\n",
    " \n",
    "print(\"\\nContent in file1.txt:\\n\", content)\n",
    "file.close()"
   ]
  },
  {
   "cell_type": "code",
   "execution_count": 13,
   "id": "ac35e519",
   "metadata": {},
   "outputs": [
    {
     "name": "stdout",
     "output_type": "stream",
     "text": [
      "[2.5        2.63793103 2.77586207 2.9137931  3.05172414 3.18965517\n",
      " 3.32758621 3.46551724 3.60344828 3.74137931 3.87931034 4.01724138\n",
      " 4.15517241 4.29310345 4.43103448 4.56896552 4.70689655 4.84482759\n",
      " 4.98275862 5.12068966 5.25862069 5.39655172 5.53448276 5.67241379\n",
      " 5.81034483 5.94827586 6.0862069  6.22413793 6.36206897 6.5       ]\n"
     ]
    }
   ],
   "source": [
    "import numpy as np\n",
    "\n",
    "# Generating an array of 30 evenly spaced values from 2.5 to 6.5 inclusive\n",
    "x = np.linspace(2.5, 6.5, 30)\n",
    "\n",
    "print(x)"
   ]
  },
  {
   "cell_type": "markdown",
   "id": "3b5043eb",
   "metadata": {},
   "source": [
    "#### Introduction to Pandas (Series and Dataframes)\n",
    "##### 1. Write a Pandas program to convert Series of lists to one Series.\n",
    "##### 2. Write a Pandas program to create a subset of a given series based on value and condition.\n",
    "##### 3. Write a Pandas program to display most frequent value in a given series and replace everything else as 'Other' in the series.\n",
    "##### 4. Write a Pandas program to find the positions of numbers that are multiples of 5 of a given series.\n",
    "##### 5. Write a Pandas program to calculate the number of characters in each word in a given series.\n",
    "##### 6. Write a Pandas program to convert year-month string to dates adding a specified day of the month.\n",
    "##### 7. Write a Pandas program to create and display a DataFrame from a specified dictionary data which has the index labels.\n",
    "##### 8. Write a Pandas program to select the rows where the number of attempts in the examination is greater than 2.\n",
    "##### 9. Write a Pandas program to append a new row 'k' to data frame with given values for each column. Now delete the new row and return the original DataFrame.\n",
    "##### 10. Write a Pandas program to sort the DataFrame first by 'name' in descending order, then by 'score' in ascending order.\n",
    "##### 11. Write a Pandas program to replace the &#39;qualify&#39; column contains the values 'yes' and 'no' with True and False.\n",
    "##### 12. Write a Pandas program to remove infinite values from a given DataFrame."
   ]
  },
  {
   "cell_type": "code",
   "execution_count": 17,
   "id": "46f0de72",
   "metadata": {},
   "outputs": [
    {
     "name": "stdout",
     "output_type": "stream",
     "text": [
      "Original Series of list\n",
      "0    [Red, Green, White]\n",
      "1           [Red, Black]\n",
      "2               [Yellow]\n",
      "dtype: object\n",
      "One Series\n",
      "0       Red\n",
      "1     Green\n",
      "2     White\n",
      "3       Red\n",
      "4     Black\n",
      "5    Yellow\n",
      "dtype: object\n"
     ]
    }
   ],
   "source": [
    "import pandas as pd\n",
    "x = pd.Series([['Red', 'Green', 'White'],['Red', 'Black'],['Yellow']])\n",
    "print(\"Original Series of list\")\n",
    "print(x)\n",
    "x = x.apply(pd.Series).stack().reset_index(drop=True)\n",
    "print(\"One Series\")\n",
    "print(x)"
   ]
  },
  {
   "cell_type": "code",
   "execution_count": 18,
   "id": "337ea0e0",
   "metadata": {},
   "outputs": [
    {
     "name": "stdout",
     "output_type": "stream",
     "text": [
      "Original Data Series:\n",
      "0      0\n",
      "1      1\n",
      "2      2\n",
      "3      3\n",
      "4      4\n",
      "5      5\n",
      "6      6\n",
      "7      7\n",
      "8      8\n",
      "9      9\n",
      "10    10\n",
      "dtype: int64\n",
      "\n",
      "Subset of the above Data Series:\n",
      "0    0\n",
      "1    1\n",
      "2    2\n",
      "3    3\n",
      "4    4\n",
      "5    5\n",
      "dtype: int64\n"
     ]
    }
   ],
   "source": [
    "import pandas as pd\n",
    "s = pd.Series([0,1,2,3,4,5,6,7,8,9,10])\n",
    "print(\"Original Data Series:\")\n",
    "print(s)\n",
    "print(\"\\nSubset of the above Data Series:\")\n",
    "n = 6\n",
    "new_s = s[s < n]\n",
    "print(new_s)"
   ]
  },
  {
   "cell_type": "code",
   "execution_count": 19,
   "id": "cf92faa7",
   "metadata": {},
   "outputs": [
    {
     "name": "stdout",
     "output_type": "stream",
     "text": [
      "Original Series:\n",
      "0     3\n",
      "1     3\n",
      "2     1\n",
      "3     1\n",
      "4     2\n",
      "5     3\n",
      "6     1\n",
      "7     1\n",
      "8     4\n",
      "9     2\n",
      "10    3\n",
      "11    2\n",
      "12    4\n",
      "13    2\n",
      "14    1\n",
      "dtype: int32\n",
      "Top 2 Freq: 1    5\n",
      "3    4\n",
      "2    4\n",
      "4    2\n",
      "dtype: int64\n",
      "0     Other\n",
      "1     Other\n",
      "2         1\n",
      "3         1\n",
      "4     Other\n",
      "5     Other\n",
      "6         1\n",
      "7         1\n",
      "8     Other\n",
      "9     Other\n",
      "10    Other\n",
      "11    Other\n",
      "12    Other\n",
      "13    Other\n",
      "14        1\n",
      "dtype: object\n"
     ]
    }
   ],
   "source": [
    "import pandas as pd\n",
    "import numpy as np\n",
    "num_series = pd.Series(np.random.randint(1, 5, [15]))\n",
    "print(\"Original Series:\")\n",
    "print(num_series)\n",
    "print(\"Top 2 Freq:\", num_series.value_counts())\n",
    "result = num_series[~num_series.isin(num_series.value_counts().index[:1])] = 'Other'\n",
    "print(num_series)"
   ]
  },
  {
   "cell_type": "code",
   "execution_count": 20,
   "id": "f479a7e7",
   "metadata": {},
   "outputs": [
    {
     "name": "stdout",
     "output_type": "stream",
     "text": [
      "Original Series:\n",
      "0    9\n",
      "1    4\n",
      "2    8\n",
      "3    2\n",
      "4    2\n",
      "5    9\n",
      "6    5\n",
      "7    7\n",
      "8    1\n",
      "dtype: int32\n",
      "Positions of numbers that are multiples of 5:\n",
      "(array([6], dtype=int64),)\n"
     ]
    }
   ],
   "source": [
    "import pandas as pd\n",
    "import numpy as np\n",
    "num_series = pd.Series(np.random.randint(1, 10, 9))\n",
    "print(\"Original Series:\")\n",
    "print(num_series)\n",
    "result = np.where(num_series % 5==0)\n",
    "print(\"Positions of numbers that are multiples of 5:\")\n",
    "print(result)"
   ]
  },
  {
   "cell_type": "code",
   "execution_count": 21,
   "id": "556f7554",
   "metadata": {},
   "outputs": [
    {
     "name": "stdout",
     "output_type": "stream",
     "text": [
      "Original Series:\n",
      "0       Php\n",
      "1    Python\n",
      "2      Java\n",
      "3        C#\n",
      "dtype: object\n",
      "\n",
      "Number of characters in each word in the said series:\n",
      "0    3\n",
      "1    6\n",
      "2    4\n",
      "3    2\n",
      "dtype: int64\n"
     ]
    }
   ],
   "source": [
    "import pandas as pd\n",
    "series1 = pd.Series(['Php', 'Python', 'Java', 'C#'])\n",
    "print(\"Original Series:\")\n",
    "print(series1)\n",
    "result = series1.map(lambda x: len(x))\n",
    "print(\"\\nNumber of characters in each word in the said series:\")\n",
    "print(result)"
   ]
  },
  {
   "cell_type": "code",
   "execution_count": 22,
   "id": "f766fd73",
   "metadata": {},
   "outputs": [
    {
     "name": "stdout",
     "output_type": "stream",
     "text": [
      "Original Series:\n",
      "0    Jan 2015\n",
      "1    Feb 2016\n",
      "2    Mar 2017\n",
      "3    Apr 2018\n",
      "4    May 2019\n",
      "dtype: object\n",
      "\n",
      "New dates:\n",
      "0   2015-01-11\n",
      "1   2016-02-11\n",
      "2   2017-03-11\n",
      "3   2018-04-11\n",
      "4   2019-05-11\n",
      "dtype: datetime64[ns]\n"
     ]
    }
   ],
   "source": [
    "import pandas as pd\n",
    "from dateutil.parser import parse\n",
    "date_series = pd.Series(['Jan 2015', 'Feb 2016', 'Mar 2017', 'Apr 2018', 'May 2019'])\n",
    "print(\"Original Series:\")\n",
    "print(date_series)\n",
    "print(\"\\nNew dates:\")\n",
    "result = date_series.map(lambda d: parse('11 ' + d))\n",
    "print(result)"
   ]
  },
  {
   "cell_type": "code",
   "execution_count": 9,
   "id": "16bc5c8a",
   "metadata": {},
   "outputs": [
    {
     "name": "stdout",
     "output_type": "stream",
     "text": [
      "        name  score  attempts qualify\n",
      "a  Anastasia   12.5         1     yes\n",
      "b      James    9.0         3      no\n",
      "c      Emily   16.5         2     yes\n",
      "d    Michael    NaN         3      no\n"
     ]
    }
   ],
   "source": [
    "import pandas as pd\n",
    "import numpy as np\n",
    "\n",
    "exam_data  = {'name': ['Anastasia', 'James', 'Emily', 'Michael'],\n",
    "        'score': [12.5, 9, 16.5, np.nan],\n",
    "        'attempts': [1, 3, 2, 3],\n",
    "        'qualify': ['yes', 'no', 'yes', 'no']}\n",
    "labels = ['a', 'b', 'c', 'd']\n",
    "\n",
    "df = pd.DataFrame(exam_data , index=labels)\n",
    "print(df)"
   ]
  },
  {
   "cell_type": "code",
   "execution_count": 10,
   "id": "a471559a",
   "metadata": {},
   "outputs": [
    {
     "name": "stdout",
     "output_type": "stream",
     "text": [
      "Number of attempts in the examination is greater than 2:\n",
      "    name  score  attempts qualify\n",
      "b   John    9.0         3      no\n",
      "d  James    NaN         3      no\n"
     ]
    }
   ],
   "source": [
    "import pandas as pd\n",
    "import numpy as np\n",
    "\n",
    "exam_data  = {'name': ['Ram', 'John', 'Kima', 'James'],\n",
    "        'score': [12.5, 9, 16.5, np.nan],\n",
    "        'attempts' : [1, 3, 2, 3],\n",
    "        'qualify': ['yes', 'no', 'yes', 'no']}\n",
    "labels = ['a', 'b', 'c', 'd']\n",
    "\n",
    "df = pd.DataFrame(exam_data , index=labels)\n",
    "print(\"Number of attempts in the examination is greater than 2:\")\n",
    "print(df[df['attempts'] > 2])"
   ]
  },
  {
   "cell_type": "code",
   "execution_count": 3,
   "id": "1f359a38",
   "metadata": {},
   "outputs": [
    {
     "name": "stdout",
     "output_type": "stream",
     "text": [
      "DataFrame with New Row:\n",
      "    Name\n",
      "0    Ram\n",
      "1   Sita\n",
      "2   John\n",
      "3  David\n",
      "\n",
      "Original DataFrame after Deleting 'Rohit':\n"
     ]
    },
    {
     "data": {
      "text/html": [
       "<div>\n",
       "<style scoped>\n",
       "    .dataframe tbody tr th:only-of-type {\n",
       "        vertical-align: middle;\n",
       "    }\n",
       "\n",
       "    .dataframe tbody tr th {\n",
       "        vertical-align: top;\n",
       "    }\n",
       "\n",
       "    .dataframe thead th {\n",
       "        text-align: right;\n",
       "    }\n",
       "</style>\n",
       "<table border=\"1\" class=\"dataframe\">\n",
       "  <thead>\n",
       "    <tr style=\"text-align: right;\">\n",
       "      <th></th>\n",
       "      <th>Name</th>\n",
       "    </tr>\n",
       "  </thead>\n",
       "  <tbody>\n",
       "    <tr>\n",
       "      <th>0</th>\n",
       "      <td>Ram</td>\n",
       "    </tr>\n",
       "    <tr>\n",
       "      <th>1</th>\n",
       "      <td>Sita</td>\n",
       "    </tr>\n",
       "    <tr>\n",
       "      <th>2</th>\n",
       "      <td>John</td>\n",
       "    </tr>\n",
       "    <tr>\n",
       "      <th>3</th>\n",
       "      <td>David</td>\n",
       "    </tr>\n",
       "  </tbody>\n",
       "</table>\n",
       "</div>"
      ],
      "text/plain": [
       "    Name\n",
       "0    Ram\n",
       "1   Sita\n",
       "2   John\n",
       "3  David"
      ]
     },
     "execution_count": 3,
     "metadata": {},
     "output_type": "execute_result"
    }
   ],
   "source": [
    "import pandas as pd\n",
    "\n",
    "data = {'Name': ['Ram', 'Sita', 'John', 'David']}\n",
    "df = pd.DataFrame(data)\n",
    "\n",
    "new_row_values = {'Name': 'Rohit'}\n",
    "\n",
    "print(\"DataFrame with New Row:\")\n",
    "print(df)\n",
    "\n",
    "df = df.drop(df[df['Name'] == 'Rohit'].index)\n",
    "print(\"\\nOriginal DataFrame after Deleting 'Rohit':\")\n",
    "df"
   ]
  },
  {
   "cell_type": "code",
   "execution_count": 4,
   "id": "d12d7997",
   "metadata": {},
   "outputs": [
    {
     "name": "stdout",
     "output_type": "stream",
     "text": [
      "Sorted DataFrame:\n"
     ]
    },
    {
     "data": {
      "text/html": [
       "<div>\n",
       "<style scoped>\n",
       "    .dataframe tbody tr th:only-of-type {\n",
       "        vertical-align: middle;\n",
       "    }\n",
       "\n",
       "    .dataframe tbody tr th {\n",
       "        vertical-align: top;\n",
       "    }\n",
       "\n",
       "    .dataframe thead th {\n",
       "        text-align: right;\n",
       "    }\n",
       "</style>\n",
       "<table border=\"1\" class=\"dataframe\">\n",
       "  <thead>\n",
       "    <tr style=\"text-align: right;\">\n",
       "      <th></th>\n",
       "      <th>name</th>\n",
       "      <th>score</th>\n",
       "      <th>qualify</th>\n",
       "    </tr>\n",
       "  </thead>\n",
       "  <tbody>\n",
       "    <tr>\n",
       "      <th>1</th>\n",
       "      <td>Sita</td>\n",
       "      <td>85</td>\n",
       "      <td>yes</td>\n",
       "    </tr>\n",
       "    <tr>\n",
       "      <th>0</th>\n",
       "      <td>Ram</td>\n",
       "      <td>90</td>\n",
       "      <td>yes</td>\n",
       "    </tr>\n",
       "    <tr>\n",
       "      <th>2</th>\n",
       "      <td>John</td>\n",
       "      <td>75</td>\n",
       "      <td>no</td>\n",
       "    </tr>\n",
       "    <tr>\n",
       "      <th>3</th>\n",
       "      <td>David</td>\n",
       "      <td>95</td>\n",
       "      <td>yes</td>\n",
       "    </tr>\n",
       "  </tbody>\n",
       "</table>\n",
       "</div>"
      ],
      "text/plain": [
       "    name  score qualify\n",
       "1   Sita     85     yes\n",
       "0    Ram     90     yes\n",
       "2   John     75      no\n",
       "3  David     95     yes"
      ]
     },
     "execution_count": 4,
     "metadata": {},
     "output_type": "execute_result"
    }
   ],
   "source": [
    "import pandas as pd\n",
    "\n",
    "data = {'name': ['Ram', 'Sita', 'John', 'David'],\n",
    "        'score': [90, 85, 75, 95],\n",
    "        'qualify': ['yes', 'yes', 'no', 'yes']}\n",
    "\n",
    "df = pd.DataFrame(data)\n",
    "df_sorted = df.sort_values(by=['name', 'score'], ascending=[False, True])\n",
    "print(\"Sorted DataFrame:\")\n",
    "df_sorted"
   ]
  },
  {
   "cell_type": "code",
   "execution_count": 5,
   "id": "4a3e6650",
   "metadata": {},
   "outputs": [
    {
     "name": "stdout",
     "output_type": "stream",
     "text": [
      "DataFrame after Replacing 'yes' and 'no' with True and False:\n"
     ]
    },
    {
     "data": {
      "text/html": [
       "<div>\n",
       "<style scoped>\n",
       "    .dataframe tbody tr th:only-of-type {\n",
       "        vertical-align: middle;\n",
       "    }\n",
       "\n",
       "    .dataframe tbody tr th {\n",
       "        vertical-align: top;\n",
       "    }\n",
       "\n",
       "    .dataframe thead th {\n",
       "        text-align: right;\n",
       "    }\n",
       "</style>\n",
       "<table border=\"1\" class=\"dataframe\">\n",
       "  <thead>\n",
       "    <tr style=\"text-align: right;\">\n",
       "      <th></th>\n",
       "      <th>name</th>\n",
       "      <th>score</th>\n",
       "      <th>qualify</th>\n",
       "    </tr>\n",
       "  </thead>\n",
       "  <tbody>\n",
       "    <tr>\n",
       "      <th>0</th>\n",
       "      <td>Ram</td>\n",
       "      <td>90</td>\n",
       "      <td>True</td>\n",
       "    </tr>\n",
       "    <tr>\n",
       "      <th>1</th>\n",
       "      <td>Sita</td>\n",
       "      <td>85</td>\n",
       "      <td>True</td>\n",
       "    </tr>\n",
       "    <tr>\n",
       "      <th>2</th>\n",
       "      <td>John</td>\n",
       "      <td>75</td>\n",
       "      <td>False</td>\n",
       "    </tr>\n",
       "    <tr>\n",
       "      <th>3</th>\n",
       "      <td>David</td>\n",
       "      <td>95</td>\n",
       "      <td>True</td>\n",
       "    </tr>\n",
       "  </tbody>\n",
       "</table>\n",
       "</div>"
      ],
      "text/plain": [
       "    name  score  qualify\n",
       "0    Ram     90     True\n",
       "1   Sita     85     True\n",
       "2   John     75    False\n",
       "3  David     95     True"
      ]
     },
     "execution_count": 5,
     "metadata": {},
     "output_type": "execute_result"
    }
   ],
   "source": [
    "import pandas as pd\n",
    "\n",
    "data = {'name': ['Ram', 'Sita', 'John', 'David'],\n",
    "        'score': [90, 85, 75, 95],\n",
    "        'qualify': ['yes', 'yes', 'no', 'yes']}\n",
    "\n",
    "df = pd.DataFrame(data)\n",
    "df['qualify'] = df['qualify'].map({'yes': True, 'no': False})\n",
    "print(\"DataFrame after Replacing 'yes' and 'no' with True and False:\")\n",
    "df"
   ]
  },
  {
   "cell_type": "code",
   "execution_count": 6,
   "id": "592af062",
   "metadata": {},
   "outputs": [
    {
     "name": "stdout",
     "output_type": "stream",
     "text": [
      "DataFrame after Removing Infinite Values:\n"
     ]
    },
    {
     "data": {
      "text/html": [
       "<div>\n",
       "<style scoped>\n",
       "    .dataframe tbody tr th:only-of-type {\n",
       "        vertical-align: middle;\n",
       "    }\n",
       "\n",
       "    .dataframe tbody tr th {\n",
       "        vertical-align: top;\n",
       "    }\n",
       "\n",
       "    .dataframe thead th {\n",
       "        text-align: right;\n",
       "    }\n",
       "</style>\n",
       "<table border=\"1\" class=\"dataframe\">\n",
       "  <thead>\n",
       "    <tr style=\"text-align: right;\">\n",
       "      <th></th>\n",
       "      <th>name</th>\n",
       "      <th>score</th>\n",
       "    </tr>\n",
       "  </thead>\n",
       "  <tbody>\n",
       "    <tr>\n",
       "      <th>0</th>\n",
       "      <td>Ram</td>\n",
       "      <td>90.0</td>\n",
       "    </tr>\n",
       "    <tr>\n",
       "      <th>2</th>\n",
       "      <td>John</td>\n",
       "      <td>75.0</td>\n",
       "    </tr>\n",
       "  </tbody>\n",
       "</table>\n",
       "</div>"
      ],
      "text/plain": [
       "   name  score\n",
       "0   Ram   90.0\n",
       "2  John   75.0"
      ]
     },
     "execution_count": 6,
     "metadata": {},
     "output_type": "execute_result"
    }
   ],
   "source": [
    "import pandas as pd\n",
    "import numpy as np\n",
    "data = {'name': ['Ram', 'Sita', 'John', 'David'],\n",
    "        'score': [90, np.inf, 75, -np.inf]}\n",
    "df = pd.DataFrame(data)\n",
    "\n",
    "df.replace([np.inf, -np.inf], np.nan, inplace=True)\n",
    "\n",
    "df = df.dropna()\n",
    "print(\"DataFrame after Removing Infinite Values:\")\n",
    "df"
   ]
  },
  {
   "cell_type": "code",
   "execution_count": null,
   "id": "997b887e",
   "metadata": {},
   "outputs": [],
   "source": []
  }
 ],
 "metadata": {
  "kernelspec": {
   "display_name": "Python 3 (ipykernel)",
   "language": "python",
   "name": "python3"
  },
  "language_info": {
   "codemirror_mode": {
    "name": "ipython",
    "version": 3
   },
   "file_extension": ".py",
   "mimetype": "text/x-python",
   "name": "python",
   "nbconvert_exporter": "python",
   "pygments_lexer": "ipython3",
   "version": "3.9.12"
  }
 },
 "nbformat": 4,
 "nbformat_minor": 5
}
