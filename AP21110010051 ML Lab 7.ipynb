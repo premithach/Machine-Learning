{
 "cells": [
  {
   "cell_type": "code",
   "execution_count": 3,
   "id": "8c593df1",
   "metadata": {},
   "outputs": [
    {
     "name": "stdout",
     "output_type": "stream",
     "text": [
      "Mean:  3.0\n",
      "Variance:  2.5\n"
     ]
    }
   ],
   "source": [
    "#Create a vector (array) of 1XN dimension representing N-\n",
    "#dimensional feature vector of a sample. Write a program to\n",
    "#compute the mean and variance of the elements present in the array.\n",
    "import numpy as np\n",
    "\n",
    "# Create a vector of 1xN dimension\n",
    "vector = np.array([1, 2, 3, 4, 5])\n",
    "\n",
    "# Calculate the mean\n",
    "mean = np.mean(vector)\n",
    "\n",
    "# Calculate the variance (sample variance)\n",
    "variance = np.var(vector, ddof=1)\n",
    "\n",
    "# Print the mean and variance\n",
    "print(\"Mean: \", mean)\n",
    "print(\"Variance: \", variance)"
   ]
  },
  {
   "cell_type": "code",
   "execution_count": 8,
   "id": "a0ecfdc6",
   "metadata": {},
   "outputs": [
    {
     "name": "stdout",
     "output_type": "stream",
     "text": [
      "Covariance:  2.5\n"
     ]
    }
   ],
   "source": [
    "#Create two vectors each of dimension 1XM each representing N-\n",
    "#dimensional feature vector of a sample. Write a program to\n",
    "#compute the Covariance between them.\n",
    "import numpy as np\n",
    "\n",
    "# Create two vectors of 1xM dimension\n",
    "vector1 = np.array([1, 2, 3, 4, 5])\n",
    "vector2 = np.array([2, 3, 4, 5, 6])\n",
    "\n",
    "# Calculate the covariance\n",
    "covariance = np.cov(vector1, vector2, ddof=1)[0][1]\n",
    "\n",
    "# Print the covariance\n",
    "print(\"Covariance: \", covariance)"
   ]
  },
  {
   "cell_type": "code",
   "execution_count": 5,
   "id": "021a64ad",
   "metadata": {},
   "outputs": [
    {
     "name": "stdout",
     "output_type": "stream",
     "text": [
      "Correlation:  0.9999999999999999\n"
     ]
    }
   ],
   "source": [
    "#Create two vectors each of dimension 1XN. Write a program to\n",
    "#compute the Correlation between them.\n",
    "import numpy as np\n",
    "\n",
    "# Create two vectors of 1xN dimension\n",
    "vector1 = np.array([1, 2, 3, 4, 5])\n",
    "vector2 = np.array([2, 3, 4, 5, 6])\n",
    "\n",
    "# Calculate the correlation coefficient\n",
    "correlation = np.corrcoef(vector1, vector2)[0][1]\n",
    "\n",
    "# Print the correlation coefficient\n",
    "print(\"Correlation: \", correlation)"
   ]
  },
  {
   "cell_type": "code",
   "execution_count": 6,
   "id": "997454ee",
   "metadata": {},
   "outputs": [
    {
     "name": "stdout",
     "output_type": "stream",
     "text": [
      "Covariance matrix:\n",
      "[[9. 9. 9.]\n",
      " [9. 9. 9.]\n",
      " [9. 9. 9.]]\n",
      "Correlation matrix:\n",
      "[[1. 1. 1.]\n",
      " [1. 1. 1.]\n",
      " [1. 1. 1.]]\n"
     ]
    }
   ],
   "source": [
    "#Create a Matrix of MXN dimension representing the M-dimensional\n",
    "#feature vector for N number of samples i. e (i,j)th entry of the matrix\n",
    "#represents the ith feature of jth sample. Write a program to compute\n",
    "#the covariance matrix and correlation matrix. Comment on\n",
    "#takeaways from these matrixes.\n",
    "import numpy as np\n",
    "\n",
    "# Create a MxN dimension matrix\n",
    "matrix = np.array([[1, 2, 3], [4, 5, 6], [7, 8, 9]])\n",
    "\n",
    "# Calculate the covariance matrix\n",
    "covariance_matrix = np.cov(matrix, rowvar=False)\n",
    "\n",
    "# Calculate the correlation matrix\n",
    "correlation_matrix = np.corrcoef(matrix, rowvar=False)\n",
    "\n",
    "# Print the covariance matrix\n",
    "print(\"Covariance matrix:\")\n",
    "print(covariance_matrix)\n",
    "\n",
    "# Print the correlation matrix\n",
    "print(\"Correlation matrix:\")\n",
    "print(correlation_matrix)"
   ]
  },
  {
   "cell_type": "code",
   "execution_count": null,
   "id": "fd2d0198",
   "metadata": {},
   "outputs": [],
   "source": []
  }
 ],
 "metadata": {
  "kernelspec": {
   "display_name": "Python 3 (ipykernel)",
   "language": "python",
   "name": "python3"
  },
  "language_info": {
   "codemirror_mode": {
    "name": "ipython",
    "version": 3
   },
   "file_extension": ".py",
   "mimetype": "text/x-python",
   "name": "python",
   "nbconvert_exporter": "python",
   "pygments_lexer": "ipython3",
   "version": "3.9.12"
  }
 },
 "nbformat": 4,
 "nbformat_minor": 5
}
